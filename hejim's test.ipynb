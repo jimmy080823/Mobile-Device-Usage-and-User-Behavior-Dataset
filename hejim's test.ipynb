{
 "cells": [
  {
   "cell_type": "markdown",
   "metadata": {},
   "source": [
    "# Preparation"
   ]
  },
  {
   "cell_type": "code",
   "execution_count": null,
   "metadata": {},
   "outputs": [],
   "source": [
    "import pandas as pd \n",
    "\n",
    "import numpy as np \n",
    "import matplotlib.pyplot as plt \n",
    "import seaborn as sns\n",
    "from sklearn.model_selection import train_test_split\n",
    "from sklearn.preprocessing import StandardScaler, OneHotEncoder\n",
    "from sklearn.compose import ColumnTransformer\n",
    "from sklearn.pipeline import Pipeline\n",
    "from sklearn.metrics import classification_report, confusion_matrix\n",
    "from sklearn.ensemble import RandomForestClassifier\n",
    "from sklearn.linear_model import LogisticRegression\n",
    "from sklearn.ensemble import RandomForestRegressor\n",
    "from sklearn.linear_model import LinearRegression\n",
    "from sklearn.metrics import mean_absolute_error, mean_squared_error, r2_score"
   ]
  },
  {
   "cell_type": "code",
   "execution_count": 5,
   "metadata": {},
   "outputs": [
    {
     "name": "stdout",
     "output_type": "stream",
     "text": [
      "<class 'pandas.core.frame.DataFrame'>\n",
      "RangeIndex: 700 entries, 0 to 699\n",
      "Data columns (total 11 columns):\n",
      " #   Column                      Non-Null Count  Dtype  \n",
      "---  ------                      --------------  -----  \n",
      " 0   User ID                     700 non-null    int64  \n",
      " 1   Device Model                700 non-null    object \n",
      " 2   Operating System            700 non-null    object \n",
      " 3   App Usage Time (min/day)    700 non-null    int64  \n",
      " 4   Screen On Time (hours/day)  700 non-null    float64\n",
      " 5   Battery Drain (mAh/day)     700 non-null    int64  \n",
      " 6   Number of Apps Installed    700 non-null    int64  \n",
      " 7   Data Usage (MB/day)         700 non-null    int64  \n",
      " 8   Age                         700 non-null    int64  \n",
      " 9   Gender                      700 non-null    object \n",
      " 10  User Behavior Class         700 non-null    int64  \n",
      "dtypes: float64(1), int64(7), object(3)\n",
      "memory usage: 60.3+ KB\n",
      "None\n"
     ]
    }
   ],
   "source": [
    "df = pd.read_csv(\"user_behavior_dataset.csv\")\n",
    "print(df.info())"
   ]
  },
  {
   "cell_type": "code",
   "execution_count": 6,
   "metadata": {},
   "outputs": [
    {
     "name": "stdout",
     "output_type": "stream",
     "text": [
      "         User ID  App Usage Time (min/day)  Screen On Time (hours/day)  \\\n",
      "count  700.00000                700.000000                  700.000000   \n",
      "mean   350.50000                271.128571                    5.272714   \n",
      "std    202.21688                177.199484                    3.068584   \n",
      "min      1.00000                 30.000000                    1.000000   \n",
      "25%    175.75000                113.250000                    2.500000   \n",
      "50%    350.50000                227.500000                    4.900000   \n",
      "75%    525.25000                434.250000                    7.400000   \n",
      "max    700.00000                598.000000                   12.000000   \n",
      "\n",
      "       Battery Drain (mAh/day)  Number of Apps Installed  Data Usage (MB/day)  \\\n",
      "count               700.000000                700.000000           700.000000   \n",
      "mean               1525.158571                 50.681429           929.742857   \n",
      "std                 819.136414                 26.943324           640.451729   \n",
      "min                 302.000000                 10.000000           102.000000   \n",
      "25%                 722.250000                 26.000000           373.000000   \n",
      "50%                1502.500000                 49.000000           823.500000   \n",
      "75%                2229.500000                 74.000000          1341.000000   \n",
      "max                2993.000000                 99.000000          2497.000000   \n",
      "\n",
      "              Age  User Behavior Class  \n",
      "count  700.000000           700.000000  \n",
      "mean    38.482857             2.990000  \n",
      "std     12.012916             1.401476  \n",
      "min     18.000000             1.000000  \n",
      "25%     28.000000             2.000000  \n",
      "50%     38.000000             3.000000  \n",
      "75%     49.000000             4.000000  \n",
      "max     59.000000             5.000000  \n"
     ]
    }
   ],
   "source": [
    "print(df.describe())"
   ]
  },
  {
   "cell_type": "code",
   "execution_count": null,
   "metadata": {},
   "outputs": [],
   "source": []
  }
 ],
 "metadata": {
  "kernelspec": {
   "display_name": "base",
   "language": "python",
   "name": "python3"
  },
  "language_info": {
   "codemirror_mode": {
    "name": "ipython",
    "version": 3
   },
   "file_extension": ".py",
   "mimetype": "text/x-python",
   "name": "python",
   "nbconvert_exporter": "python",
   "pygments_lexer": "ipython3",
   "version": "3.11.5"
  }
 },
 "nbformat": 4,
 "nbformat_minor": 2
}
